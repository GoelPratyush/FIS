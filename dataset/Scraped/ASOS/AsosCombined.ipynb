{
  "nbformat": 4,
  "nbformat_minor": 0,
  "metadata": {
    "colab": {
      "name": "AsosCombined.ipynb",
      "provenance": []
    },
    "kernelspec": {
      "name": "python3",
      "display_name": "Python 3"
    }
  },
  "cells": [
    {
      "cell_type": "code",
      "metadata": {
        "id": "iIBirrnHvgxe",
        "colab_type": "code",
        "colab": {}
      },
      "source": [
        "import pandas as pd"
      ],
      "execution_count": 1,
      "outputs": []
    },
    {
      "cell_type": "code",
      "metadata": {
        "id": "pJXNT2nyk76Z",
        "colab_type": "code",
        "colab": {}
      },
      "source": [
        "df1 = pd.read_excel(r'/content/Jumpsuits_ASOS_full2.xlsx')\n",
        "df2 = pd.read_excel(r'/content/Jumpsuits_ASOS_images.xlsx')"
      ],
      "execution_count": 6,
      "outputs": []
    },
    {
      "cell_type": "code",
      "metadata": {
        "id": "88-K7bRCl2pY",
        "colab_type": "code",
        "colab": {
          "base_uri": "https://localhost:8080/",
          "height": 363
        },
        "outputId": "19d96280-1b29-4fd7-cb99-8e928ecfc84f"
      },
      "source": [
        "df1.head()"
      ],
      "execution_count": 7,
      "outputs": [
        {
          "output_type": "execute_result",
          "data": {
            "text/html": [
              "<div>\n",
              "<style scoped>\n",
              "    .dataframe tbody tr th:only-of-type {\n",
              "        vertical-align: middle;\n",
              "    }\n",
              "\n",
              "    .dataframe tbody tr th {\n",
              "        vertical-align: top;\n",
              "    }\n",
              "\n",
              "    .dataframe thead th {\n",
              "        text-align: right;\n",
              "    }\n",
              "</style>\n",
              "<table border=\"1\" class=\"dataframe\">\n",
              "  <thead>\n",
              "    <tr style=\"text-align: right;\">\n",
              "      <th></th>\n",
              "      <th>Title</th>\n",
              "      <th>Title_URL</th>\n",
              "      <th>Image</th>\n",
              "      <th>price</th>\n",
              "      <th>name</th>\n",
              "      <th>detail</th>\n",
              "      <th>fabric</th>\n",
              "    </tr>\n",
              "  </thead>\n",
              "  <tbody>\n",
              "    <tr>\n",
              "      <th>0</th>\n",
              "      <td>ASOS DESIGN fallen shoulder scuba jumpsuit in ...</td>\n",
              "      <td>https://www.asos.com/asos-design/asos-design-f...</td>\n",
              "      <td>https://images.asos-media.com/products/asos-de...</td>\n",
              "      <td>£45.00</td>\n",
              "      <td>ASOS DESIGN fallen shoulder scuba jumpsuit in ...</td>\n",
              "      <td>Product Details\\n            Jumpsuit by ASOS ...</td>\n",
              "      <td>ABOUT ME\\n            Thick, scuba-style fabri...</td>\n",
              "    </tr>\n",
              "    <tr>\n",
              "      <th>1</th>\n",
              "      <td>ASOS DESIGN tie waist jumpsuit in stone</td>\n",
              "      <td>https://www.asos.com/asos-design/asos-design-t...</td>\n",
              "      <td>https://images.asos-media.com/products/asos-de...</td>\n",
              "      <td>£35.00</td>\n",
              "      <td>ASOS DESIGN tie waist jumpsuit in stone</td>\n",
              "      <td>Product Details\\n            Jumpsuit by ASOS ...</td>\n",
              "      <td>ABOUT ME\\n            Woven fabricLightweight,...</td>\n",
              "    </tr>\n",
              "    <tr>\n",
              "      <th>2</th>\n",
              "      <td>Vero Moda linen playsuit with tie waist in white</td>\n",
              "      <td>https://www.asos.com/vero-moda/vero-moda-linen...</td>\n",
              "      <td>https://images.asos-media.com/products/vero-mo...</td>\n",
              "      <td>£28.00</td>\n",
              "      <td>Vero Moda linen playsuit with tie waist in white</td>\n",
              "      <td>Product Details\\n            Playsuit by Vero ...</td>\n",
              "      <td>ABOUT ME\\n            Linen-rich fabricStrong ...</td>\n",
              "    </tr>\n",
              "    <tr>\n",
              "      <th>3</th>\n",
              "      <td>Noisy May layered jumpsuit in black</td>\n",
              "      <td>https://www.asos.com/noisy-may/noisy-may-layer...</td>\n",
              "      <td>https://images.asos-media.com/products/noisy-m...</td>\n",
              "      <td>£38.00</td>\n",
              "      <td>Noisy May layered jumpsuit in black</td>\n",
              "      <td>Product Details\\n            Jumpsuit by Noisy...</td>\n",
              "      <td>ABOUT ME\\n            Lightweight woven fabric...</td>\n",
              "    </tr>\n",
              "    <tr>\n",
              "      <th>4</th>\n",
              "      <td>ASOS DESIGN satin playsuit with drape detail i...</td>\n",
              "      <td>https://www.asos.com/asos-design/asos-design-s...</td>\n",
              "      <td>https://images.asos-media.com/products/asos-de...</td>\n",
              "      <td>£55.00</td>\n",
              "      <td>ASOS DESIGN satin playsuit with drape detail i...</td>\n",
              "      <td>Product Details\\n            Playsuit by ASOS ...</td>\n",
              "      <td>ABOUT ME\\n            Glossy, satin-style fabr...</td>\n",
              "    </tr>\n",
              "  </tbody>\n",
              "</table>\n",
              "</div>"
            ],
            "text/plain": [
              "                                               Title  ...                                             fabric\n",
              "0  ASOS DESIGN fallen shoulder scuba jumpsuit in ...  ...  ABOUT ME\\n            Thick, scuba-style fabri...\n",
              "1            ASOS DESIGN tie waist jumpsuit in stone  ...  ABOUT ME\\n            Woven fabricLightweight,...\n",
              "2   Vero Moda linen playsuit with tie waist in white  ...  ABOUT ME\\n            Linen-rich fabricStrong ...\n",
              "3                Noisy May layered jumpsuit in black  ...  ABOUT ME\\n            Lightweight woven fabric...\n",
              "4  ASOS DESIGN satin playsuit with drape detail i...  ...  ABOUT ME\\n            Glossy, satin-style fabr...\n",
              "\n",
              "[5 rows x 7 columns]"
            ]
          },
          "metadata": {
            "tags": []
          },
          "execution_count": 7
        }
      ]
    },
    {
      "cell_type": "code",
      "metadata": {
        "id": "C3vsNMOImajb",
        "colab_type": "code",
        "colab": {
          "base_uri": "https://localhost:8080/",
          "height": 195
        },
        "outputId": "1ce16f63-758e-45f6-fabb-1f1addc74fed"
      },
      "source": [
        "df2.head()"
      ],
      "execution_count": 16,
      "outputs": [
        {
          "output_type": "execute_result",
          "data": {
            "text/html": [
              "<div>\n",
              "<style scoped>\n",
              "    .dataframe tbody tr th:only-of-type {\n",
              "        vertical-align: middle;\n",
              "    }\n",
              "\n",
              "    .dataframe tbody tr th {\n",
              "        vertical-align: top;\n",
              "    }\n",
              "\n",
              "    .dataframe thead th {\n",
              "        text-align: right;\n",
              "    }\n",
              "</style>\n",
              "<table border=\"1\" class=\"dataframe\">\n",
              "  <thead>\n",
              "    <tr style=\"text-align: right;\">\n",
              "      <th></th>\n",
              "      <th>Title_URL</th>\n",
              "      <th>Image</th>\n",
              "      <th>Image_URL</th>\n",
              "    </tr>\n",
              "  </thead>\n",
              "  <tbody>\n",
              "    <tr>\n",
              "      <th>0</th>\n",
              "      <td>https://www.asos.com/asos-design/asos-design-f...</td>\n",
              "      <td>https://images.asos-media.com/products/asos-de...</td>\n",
              "      <td>https://images.asos-media.com/products/asos-de...</td>\n",
              "    </tr>\n",
              "    <tr>\n",
              "      <th>1</th>\n",
              "      <td>https://www.asos.com/asos-design/asos-design-t...</td>\n",
              "      <td>https://images.asos-media.com/products/asos-de...</td>\n",
              "      <td>https://images.asos-media.com/products/asos-de...</td>\n",
              "    </tr>\n",
              "    <tr>\n",
              "      <th>2</th>\n",
              "      <td>https://www.asos.com/asos-design/asos-design-s...</td>\n",
              "      <td>https://images.asos-media.com/products/asos-de...</td>\n",
              "      <td>https://images.asos-media.com/products/asos-de...</td>\n",
              "    </tr>\n",
              "    <tr>\n",
              "      <th>3</th>\n",
              "      <td>https://www.asos.com/vero-moda/vero-moda-linen...</td>\n",
              "      <td>https://images.asos-media.com/products/vero-mo...</td>\n",
              "      <td>https://images.asos-media.com/products/vero-mo...</td>\n",
              "    </tr>\n",
              "    <tr>\n",
              "      <th>4</th>\n",
              "      <td>https://www.asos.com/reclaimed-vintage/reclaim...</td>\n",
              "      <td>https://images.asos-media.com/products/reclaim...</td>\n",
              "      <td>https://images.asos-media.com/products/vero-mo...</td>\n",
              "    </tr>\n",
              "  </tbody>\n",
              "</table>\n",
              "</div>"
            ],
            "text/plain": [
              "                                           Title_URL  ...                                          Image_URL\n",
              "0  https://www.asos.com/asos-design/asos-design-f...  ...  https://images.asos-media.com/products/asos-de...\n",
              "1  https://www.asos.com/asos-design/asos-design-t...  ...  https://images.asos-media.com/products/asos-de...\n",
              "2  https://www.asos.com/asos-design/asos-design-s...  ...  https://images.asos-media.com/products/asos-de...\n",
              "3  https://www.asos.com/vero-moda/vero-moda-linen...  ...  https://images.asos-media.com/products/vero-mo...\n",
              "4  https://www.asos.com/reclaimed-vintage/reclaim...  ...  https://images.asos-media.com/products/vero-mo...\n",
              "\n",
              "[5 rows x 3 columns]"
            ]
          },
          "metadata": {
            "tags": []
          },
          "execution_count": 16
        }
      ]
    },
    {
      "cell_type": "code",
      "metadata": {
        "id": "0TyI_SYomcJK",
        "colab_type": "code",
        "colab": {
          "base_uri": "https://localhost:8080/",
          "height": 652
        },
        "outputId": "800f23e5-c5da-4f3a-fcdc-7d474c6a08fa"
      },
      "source": [
        "df3 = pd.merge(df1, df2, on='Title_URL')\n",
        "df3.head()"
      ],
      "execution_count": 20,
      "outputs": [
        {
          "output_type": "execute_result",
          "data": {
            "text/html": [
              "<div>\n",
              "<style scoped>\n",
              "    .dataframe tbody tr th:only-of-type {\n",
              "        vertical-align: middle;\n",
              "    }\n",
              "\n",
              "    .dataframe tbody tr th {\n",
              "        vertical-align: top;\n",
              "    }\n",
              "\n",
              "    .dataframe thead th {\n",
              "        text-align: right;\n",
              "    }\n",
              "</style>\n",
              "<table border=\"1\" class=\"dataframe\">\n",
              "  <thead>\n",
              "    <tr style=\"text-align: right;\">\n",
              "      <th></th>\n",
              "      <th>Title</th>\n",
              "      <th>Title_URL</th>\n",
              "      <th>Image_x</th>\n",
              "      <th>price</th>\n",
              "      <th>name</th>\n",
              "      <th>detail</th>\n",
              "      <th>fabric</th>\n",
              "      <th>Image_y</th>\n",
              "      <th>Image_URL</th>\n",
              "    </tr>\n",
              "  </thead>\n",
              "  <tbody>\n",
              "    <tr>\n",
              "      <th>0</th>\n",
              "      <td>ASOS DESIGN fallen shoulder scuba jumpsuit in ...</td>\n",
              "      <td>https://www.asos.com/asos-design/asos-design-f...</td>\n",
              "      <td>https://images.asos-media.com/products/asos-de...</td>\n",
              "      <td>£45.00</td>\n",
              "      <td>ASOS DESIGN fallen shoulder scuba jumpsuit in ...</td>\n",
              "      <td>Product Details\\n            Jumpsuit by ASOS ...</td>\n",
              "      <td>ABOUT ME\\n            Thick, scuba-style fabri...</td>\n",
              "      <td>https://images.asos-media.com/products/asos-de...</td>\n",
              "      <td>https://images.asos-media.com/products/asos-de...</td>\n",
              "    </tr>\n",
              "    <tr>\n",
              "      <th>1</th>\n",
              "      <td>ASOS DESIGN tie waist jumpsuit in stone</td>\n",
              "      <td>https://www.asos.com/asos-design/asos-design-t...</td>\n",
              "      <td>https://images.asos-media.com/products/asos-de...</td>\n",
              "      <td>£35.00</td>\n",
              "      <td>ASOS DESIGN tie waist jumpsuit in stone</td>\n",
              "      <td>Product Details\\n            Jumpsuit by ASOS ...</td>\n",
              "      <td>ABOUT ME\\n            Woven fabricLightweight,...</td>\n",
              "      <td>https://images.asos-media.com/products/asos-de...</td>\n",
              "      <td>https://images.asos-media.com/products/asos-de...</td>\n",
              "    </tr>\n",
              "    <tr>\n",
              "      <th>2</th>\n",
              "      <td>Vero Moda linen playsuit with tie waist in white</td>\n",
              "      <td>https://www.asos.com/vero-moda/vero-moda-linen...</td>\n",
              "      <td>https://images.asos-media.com/products/vero-mo...</td>\n",
              "      <td>£28.00</td>\n",
              "      <td>Vero Moda linen playsuit with tie waist in white</td>\n",
              "      <td>Product Details\\n            Playsuit by Vero ...</td>\n",
              "      <td>ABOUT ME\\n            Linen-rich fabricStrong ...</td>\n",
              "      <td>https://images.asos-media.com/products/vero-mo...</td>\n",
              "      <td>https://images.asos-media.com/products/vero-mo...</td>\n",
              "    </tr>\n",
              "    <tr>\n",
              "      <th>3</th>\n",
              "      <td>Noisy May layered jumpsuit in black</td>\n",
              "      <td>https://www.asos.com/noisy-may/noisy-may-layer...</td>\n",
              "      <td>https://images.asos-media.com/products/noisy-m...</td>\n",
              "      <td>£38.00</td>\n",
              "      <td>Noisy May layered jumpsuit in black</td>\n",
              "      <td>Product Details\\n            Jumpsuit by Noisy...</td>\n",
              "      <td>ABOUT ME\\n            Lightweight woven fabric...</td>\n",
              "      <td>https://images.asos-media.com/products/noisy-m...</td>\n",
              "      <td>https://images.asos-media.com/products/asos-de...</td>\n",
              "    </tr>\n",
              "    <tr>\n",
              "      <th>4</th>\n",
              "      <td>ASOS DESIGN satin playsuit with drape detail i...</td>\n",
              "      <td>https://www.asos.com/asos-design/asos-design-s...</td>\n",
              "      <td>https://images.asos-media.com/products/asos-de...</td>\n",
              "      <td>£55.00</td>\n",
              "      <td>ASOS DESIGN satin playsuit with drape detail i...</td>\n",
              "      <td>Product Details\\n            Playsuit by ASOS ...</td>\n",
              "      <td>ABOUT ME\\n            Glossy, satin-style fabr...</td>\n",
              "      <td>https://images.asos-media.com/products/asos-de...</td>\n",
              "      <td>https://images.asos-media.com/products/asos-de...</td>\n",
              "    </tr>\n",
              "  </tbody>\n",
              "</table>\n",
              "</div>"
            ],
            "text/plain": [
              "                                               Title  ...                                          Image_URL\n",
              "0  ASOS DESIGN fallen shoulder scuba jumpsuit in ...  ...  https://images.asos-media.com/products/asos-de...\n",
              "1            ASOS DESIGN tie waist jumpsuit in stone  ...  https://images.asos-media.com/products/asos-de...\n",
              "2   Vero Moda linen playsuit with tie waist in white  ...  https://images.asos-media.com/products/vero-mo...\n",
              "3                Noisy May layered jumpsuit in black  ...  https://images.asos-media.com/products/asos-de...\n",
              "4  ASOS DESIGN satin playsuit with drape detail i...  ...  https://images.asos-media.com/products/asos-de...\n",
              "\n",
              "[5 rows x 9 columns]"
            ]
          },
          "metadata": {
            "tags": []
          },
          "execution_count": 20
        }
      ]
    },
    {
      "cell_type": "code",
      "metadata": {
        "id": "LgloKGHTpW8W",
        "colab_type": "code",
        "colab": {
          "base_uri": "https://localhost:8080/",
          "height": 151
        },
        "outputId": "a2194a22-cb73-4943-8f1e-2c9a05078f12"
      },
      "source": [
        "print(df3.head())"
      ],
      "execution_count": 21,
      "outputs": [
        {
          "output_type": "stream",
          "text": [
            "                                               Title  ...                                          Image_URL\n",
            "0  ASOS DESIGN fallen shoulder scuba jumpsuit in ...  ...  https://images.asos-media.com/products/asos-de...\n",
            "1            ASOS DESIGN tie waist jumpsuit in stone  ...  https://images.asos-media.com/products/asos-de...\n",
            "2   Vero Moda linen playsuit with tie waist in white  ...  https://images.asos-media.com/products/vero-mo...\n",
            "3                Noisy May layered jumpsuit in black  ...  https://images.asos-media.com/products/asos-de...\n",
            "4  ASOS DESIGN satin playsuit with drape detail i...  ...  https://images.asos-media.com/products/asos-de...\n",
            "\n",
            "[5 rows x 9 columns]\n"
          ],
          "name": "stdout"
        }
      ]
    },
    {
      "cell_type": "code",
      "metadata": {
        "id": "NeOz1TePpgWp",
        "colab_type": "code",
        "colab": {
          "base_uri": "https://localhost:8080/",
          "height": 34
        },
        "outputId": "a18db566-6bcc-4cad-af7e-d499419ba74f"
      },
      "source": [
        "print(len(df3), len(df2), len(df1))"
      ],
      "execution_count": 23,
      "outputs": [
        {
          "output_type": "stream",
          "text": [
            "1470 1608 1584\n"
          ],
          "name": "stdout"
        }
      ]
    },
    {
      "cell_type": "code",
      "metadata": {
        "id": "y7VetuEep4ld",
        "colab_type": "code",
        "colab": {}
      },
      "source": [
        "df3.to_excel(r'/content/Jumpsuits_ASOS_complete.xlsx', index = False)"
      ],
      "execution_count": 25,
      "outputs": []
    },
    {
      "cell_type": "code",
      "metadata": {
        "id": "mHPh9ruhsrRI",
        "colab_type": "code",
        "colab": {}
      },
      "source": [
        ""
      ],
      "execution_count": null,
      "outputs": []
    }
  ]
}
